{
 "cells": [
  {
   "cell_type": "raw",
   "id": "general-heather",
   "metadata": {},
   "source": [
    "#pip install time\n",
    "про анимацию спрайтов\n",
    "https://stackoverflow.com/questions/14044147/animated-sprite-from-few-images\n",
    "\n",
    "про pygame\n",
    "https://is42-2018.susu.ru/blog/2019/04/29/pygame-shpargalka-dlya-ispolzovaniya/"
   ]
  },
  {
   "cell_type": "code",
   "execution_count": 286,
   "id": "official-terror",
   "metadata": {},
   "outputs": [
    {
     "data": {
      "text/plain": [
       "(8, 0)"
      ]
     },
     "execution_count": 286,
     "metadata": {},
     "output_type": "execute_result"
    }
   ],
   "source": [
    "import pygame as pg\n",
    "import pygame.freetype\n",
    "pg.freetype.init()\n",
    "\n",
    "from random import randint\n",
    "pg.init()"
   ]
  },
  {
   "cell_type": "code",
   "execution_count": 315,
   "id": "asian-consent",
   "metadata": {},
   "outputs": [],
   "source": [
    "#BAH = pygame.event.Event(pg.USEREVENT + 1)\n",
    "class Main():\n",
    "    \n",
    "    FPS = 60\n",
    "    \n",
    "    SCREEN_WIDTH = 1000\n",
    "    SCREEN_HEIGHT = 600\n",
    "    FON_COLOR = (245, 245, 245)\n",
    "    \n",
    "    GAME_STATUS = \"new_game\" #can be \"new_game\", \"game\", \"menu\", \"pause\", \"game_over\", \"settigs\",\"quit\"\n",
    "\n",
    "    ACCELERATION_FACTOR = 1\n",
    "    \n",
    "    \n",
    "    if __name__ == \"__main__\" :\n",
    "        pg.freetype.init()\n",
    "        \n",
    "    #None if pg.font.get_init() else  pg.font.init() #раскоментил для отладки\n",
    "    AmaticSC32 = pg.freetype.Font(\"Fonts/AmaticSC-Bold.ttf\", 32)\n",
    "    AmaticSC70 = pg.freetype.Font(\"Fonts/AmaticSC-Bold.ttf\", 70)\n",
    "    #pg.font.quit()\n",
    "    \n",
    "    \n",
    "    \n",
    "    def __init__(self):\n",
    "        pass\n",
    "    \n",
    "    \n",
    "    \n",
    "    \n",
    "    @staticmethod\n",
    "    def get_event():\n",
    "        sc = pg.display.set_mode((Main.SCREEN_WIDTH, Main.SCREEN_HEIGHT)) \n",
    "        sc.fill(FON_COLOR)\n",
    "        pg.time.Clock().tick(1)\n",
    "        www = pg.event.get()\n",
    "        print(www)\n",
    "    \n",
    "\n",
    "    \n",
    "    \n",
    "    @staticmethod\n",
    "    def go():\n",
    "        Main.GAME_STATUS = \"menu\"\n",
    "        pg.display.set_caption(\"Covid Invaiders\")\n",
    "        sc = pg.display.set_mode((Main.SCREEN_WIDTH, Main.SCREEN_HEIGHT))\n",
    "        while True: \n",
    "        \n",
    "            #print(Main.GAME_STATUS)\n",
    "            if Main.GAME_STATUS == \"menu\":\n",
    "                Main._menu(sc)\n",
    "            if Main.GAME_STATUS == \"new_game\":\n",
    "                Main._new_game()\n",
    "\n",
    "\n",
    "            if Main.GAME_STATUS == \"game\":\n",
    "                Main._game(sc)\n",
    "\n",
    "            if Main.GAME_STATUS == \"game_over\":\n",
    "                Main._game_over(sc)\n",
    "            \n",
    "            if Main.GAME_STATUS == \"quit\":\n",
    "                Main.ACCELERATION_FACTOR = 1\n",
    "                pg.quit()\n",
    "                return\n",
    "    @staticmethod\n",
    "    def _menu(main_surf):\n",
    "        \n",
    "        main_surf.fill(Main.FON_COLOR)\n",
    "\n",
    "        Text.make_menu_text()\n",
    "        Text.show(main_surf)\n",
    "\n",
    "        pg.time.Clock().tick(Main.FPS)\n",
    "        pg.display.update()            \n",
    "\n",
    "        for event in pg.event.get():\n",
    "            if Event_handler.quit(event):\n",
    "                return\n",
    "            #Event_handler.push_arrow(event, Main.ship1)\n",
    "            Event_handler.enter(event)\n",
    "            Event_handler.escape(event)\n",
    "    \n",
    "    @staticmethod\n",
    "    def _new_game():\n",
    "        Enemy.make_list()\n",
    "        Enemy.set_swarm()\n",
    "        Ship.SPRITES = pg.sprite.Group()\n",
    "        Main.ship1 = Ship()\n",
    "        Text.make_game_text()#создает поверхности с текстом\n",
    "        #global ship1\n",
    "        #global ship2\n",
    "        #ship2 = Ship()\n",
    "        Main.GAME_STATUS = \"game\"\n",
    "        return\n",
    "\n",
    "    @staticmethod\n",
    "    def _game(main_surf):        \n",
    "        while Main.GAME_STATUS != \"game_over\":\n",
    "            main_surf.fill(Main.FON_COLOR)\n",
    "            Enemy.move_swarm(main_surf)\n",
    "\n",
    "            #rrecct = Enemy.SPRITES.sprites()[0].rect # хитбокс элемента из группы спрайтов \n",
    "            #pg.draw.rect(sc, (125, 125, 125), rrecct)\n",
    "\n",
    "            Bullet.update(main_surf)\n",
    "            Ship.update(main_surf)\n",
    "            #Text.update()#обновляет поверхности с текстом\n",
    "            Text.show(main_surf)#накладывает текстовую поверхность на главную поверхность\n",
    "\n",
    "            pg.time.Clock().tick(Main.FPS*Main.ACCELERATION_FACTOR)\n",
    "            pg.display.update()            \n",
    "            #pg.display.flip()\n",
    "\n",
    "            for event in pg.event.get():\n",
    "                if Event_handler.quit(event):\n",
    "                    return\n",
    "                Event_handler.push_arrow(event, Main.ship1)\n",
    "                Event_handler.shot(event, Main.ship1)\n",
    "                if Event_handler.escape(event):\n",
    "                    return\n",
    "                \n",
    "                \"\"\"\n",
    "                if event.type == BAH:\n",
    "                    Main.FON_COLOR = (0,0,0)\n",
    "                \"\"\"        \n",
    "    @staticmethod\n",
    "    def _game_over(main_surf):        \n",
    "        \n",
    "        menu_surfase = pg.Surface((Main.SCREEN_WIDTH, Main.SCREEN_HEIGHT), pg.SRCALPHA)\n",
    "        transparency = 100 #задаётся прозрачность меню\n",
    "        menu_surfase.fill((Main.FON_COLOR + (transparency,))) \n",
    "\n",
    "        Text.make_game_over_text()\n",
    "        Text.show(menu_surfase)\n",
    "\n",
    "        main_surf.blit(menu_surfase, (0,0))\n",
    "        \n",
    "        \n",
    "        while True:\n",
    "            pg.time.Clock().tick(Main.FPS*Main.ACCELERATION_FACTOR)\n",
    "            pg.display.update()            \n",
    "            #pg.display.flip()\n",
    "\n",
    "            for event in pg.event.get():\n",
    "                if Event_handler.quit(event):\n",
    "                    return\n",
    "                if Event_handler.any_key(event):\n",
    "                    return\n",
    "    \n",
    "    @staticmethod #масштабирует поверхность\n",
    "    def scale(img, scale):\n",
    "        new_width = round(img.get_width() * scale)\n",
    "        new_height = round(img.get_height() * scale)\n",
    "        new_img = pg.transform.scale(img, (new_width, new_height))\n",
    "        return new_img\n",
    "    \n",
    "    @staticmethod #отдаёт ректрикт, центрированный по координатам\n",
    "    def get_center(surf, position, old_rect=None, to_center_x=True, to_center_y=True):\n",
    "        if old_rect == None:\n",
    "            old_rect = surf.get_rect()\n",
    "            old_rect.x = position[0]\n",
    "            old_rect.y = position[1]\n",
    "        new_rect = surf.get_rect(center=position)\n",
    "        new_rect.x = new_rect.x if to_center_x else old_rect.x\n",
    "        new_rect.y = new_rect.y if to_center_y else old_rect.y\n",
    "        return new_rect\n",
    "    \n",
    "    \n",
    "    @staticmethod #ускоряет игру в зависимости от числа оставшихся врагов\n",
    "    def get_acceleration_factor (count_of_living_enemies):\n",
    "        max_enemy = 55\n",
    "        max_value = 5\n",
    "        curvature = 3\n",
    "        acceleration_factor = (max_value-1)*((max_enemy - count_of_living_enemies) / max_enemy)**curvature+1\n",
    "        return acceleration_factor    "
   ]
  },
  {
   "cell_type": "code",
   "execution_count": 316,
   "id": "fabulous-barrier",
   "metadata": {
    "scrolled": true
   },
   "outputs": [],
   "source": [
    "Main.go()"
   ]
  },
  {
   "cell_type": "code",
   "execution_count": 197,
   "id": "exempt-chick",
   "metadata": {},
   "outputs": [],
   "source": [
    "class Event_handler():\n",
    "    def ___init__ ():\n",
    "        pass\n",
    "    \n",
    "    @staticmethod\n",
    "    def quit(event):\n",
    "        if event.type == pg.QUIT:\n",
    "            Main.ACCELERATION_FACTOR = 1\n",
    "            pg.quit()\n",
    "            Main.GAME_STATUS = \"quit\"\n",
    "            return True\n",
    "        return False\n",
    "    \n",
    "    @staticmethod\n",
    "    def push_arrow(event, ship):\n",
    "        if event.type == pg.KEYDOWN:\n",
    "            if event.key == pg.K_LEFT:\n",
    "                ship.motion_vector = -1 #to left\n",
    "            elif event.key == pg.K_RIGHT:\n",
    "                ship.motion_vector = 1 #to right\n",
    "                \n",
    "        elif event.type == pg.KEYUP:\n",
    "            if event.key in [pg.K_LEFT,\n",
    "                             pg.K_RIGHT]:\n",
    "                ship.motion_vector = 0 #to stop\n",
    "    \n",
    "    @staticmethod            \n",
    "    def shot(event, ship):\n",
    "        if event.type == pg.KEYDOWN:\n",
    "            if event.key == pg.K_SPACE:\n",
    "                ship.shot()\n",
    "                \n",
    "    @staticmethod            \n",
    "    def enter(event):\n",
    "        if event.type == pg.KEYDOWN:\n",
    "            if event.key == pg.K_RETURN:\n",
    "                Main.GAME_STATUS = \"new_game\"    \n",
    "    \n",
    "    @staticmethod            \n",
    "    def any_key(event):\n",
    "        if event.type == pg.KEYDOWN:\n",
    "            if Main.GAME_STATUS == \"game_over\":\n",
    "                Main.GAME_STATUS = \"menu\"\n",
    "                return True   \n",
    "        return False\n",
    "    \n",
    "    @staticmethod            \n",
    "    def escape(event):\n",
    "        if event.type == pg.KEYDOWN:\n",
    "            if event.key == pg.K_ESCAPE:\n",
    "                if Main.GAME_STATUS == \"game\":\n",
    "                    Main.GAME_STATUS = \"menu\"\n",
    "                    return True\n",
    "                elif Main.GAME_STATUS == \"menu\":\n",
    "                    Main.GAME_STATUS = \"quit\"\n",
    "                    return True \n",
    "                elif Main.GAME_STATUS == \"game_over\":\n",
    "                    Main.GAME_STATUS = \"menu\"\n",
    "                    return True \n",
    "                \n",
    "        return False  "
   ]
  },
  {
   "cell_type": "code",
   "execution_count": 137,
   "id": "random-generation",
   "metadata": {},
   "outputs": [],
   "source": [
    "#Сделать, чтобы шрифты загружались в начале для каждого используемого размера в виде констант\n",
    "class Text():\n",
    "    \n",
    "    text_surfase = pg.Surface((Main.SCREEN_WIDTH, Main.SCREEN_HEIGHT))\n",
    "    text_surfase.fill(Main.FON_COLOR)   \n",
    "    text_surfase.set_colorkey(Main.FON_COLOR) #делаю прозрачнуб поверхность под текст\n",
    "   \n",
    "\n",
    "\n",
    "    SHIP1_IMG = Main.scale(Ship.SHIP1_IMG , 0.50)\n",
    "    \n",
    "    TOP_LINE = 20\n",
    "    BOTTOM_LINE = Main.SCREEN_HEIGHT - 25\n",
    "    \n",
    "    color_dict = {\"red\":(186, 76, 75), \"blue\":(107, 147, 127),\"yellow\":(195, 194, 125), \"gray\":(160, 220, 232),}\n",
    "    \n",
    "    SCORE1 = 0\n",
    "    \n",
    "    def __init__(self, key, text = \"111\", x=100, y=100, color=\"blue\", font=Main.AmaticSC32, to_center_x=True, to_center_y=True,):\n",
    "        self.text = str(text)\n",
    "        #self.size = size\n",
    "        self.font = font\n",
    "        self.color = Text.color_dict[color]\n",
    "        self.surf, tmp_rect = self.font.render(self.text, self.color)\n",
    "        #центрирует поверхность\n",
    "        self.rect = Main.get_center(self.surf, (x, y), to_center_x=to_center_x, to_center_y=to_center_y)   \n",
    "        \n",
    "        #self.rect.x = new_pos[0]\n",
    "        #self.rect.y = new_pos[1]\n",
    "        \n",
    "        Text.SHOW_DICT[key] = self\n",
    "        \n",
    "        \n",
    "        \n",
    "    @staticmethod #кладет текстовую поверхность и инфокартинки на главную поверхность \n",
    "    def show(main_surfase):\n",
    "        Text.text_surfase.fill(Main.FON_COLOR)\n",
    "        if Main.GAME_STATUS == \"game\":\n",
    "            main_surfase.blit(Text.SHIP1_IMG, \n",
    "                          Main.get_center(Text.SHIP1_IMG,(20,Text.BOTTOM_LINE-2))) #картинка корабля рядом с жизнями\n",
    "        for text in Text.SHOW_DICT.values():\n",
    "            Text.text_surfase.blit(text.surf,(text.rect.x, text.rect.y))\n",
    "        main_surfase.blit(Text.text_surfase, (0,0))\n",
    "    \n",
    "    \n",
    "\n",
    "        \n",
    "    \n",
    "    def update(self, text):\n",
    "        self.text = str(text)\n",
    "        self.surf, void = self.font.render(self.text, self.color)\n",
    "        #Main.get_center(self.surf,(self.x, self.y), to_center_x=False)[2:4]\n",
    "        self.surf\n",
    "       \n",
    "\n",
    "    \n",
    "\n",
    "    @staticmethod\n",
    "    def make_menu_text():\n",
    "        Text.SHOW_DICT = {}\n",
    "        NEW_GAME = Text(\"NEW_GAME\", \"NEW GAME\"  , x=Main.SCREEN_WIDTH // 2 , y=Main.SCREEN_HEIGHT // 3, font=Main.AmaticSC70)\n",
    "        QUIT = Text(\"QUIT\", \"QUIT\"  , x=Main.SCREEN_WIDTH // 2 , y=Main.SCREEN_HEIGHT // 2, font=Main.AmaticSC70)\n",
    "\n",
    "    \n",
    "    @staticmethod\n",
    "    def make_game_text():\n",
    "        Text.SHOW_DICT = {}\n",
    "        SCORE1 = Text(\"SCORE1\", \"SCORE <1> \", color=\"red\", x=60 , y=Text.TOP_LINE)\n",
    "        SHIP1_SCORE = Text(\"SHIP1_SCORE\", \"000000\", color=\"red\", x=SCORE1.rect.right, to_center_x=False, y=Text.TOP_LINE) \n",
    "        #чиcло очков прыгает при 8 и 9 в числе\n",
    "        HI_SCORE = Text(\"HI_SCORE\", \"HI-SCORE \", x=Main.SCREEN_WIDTH // 2 - 40 , y=Text.TOP_LINE)\n",
    "        HI_SCORE_SCORE = Text(\"HI_SCORE_SCORE\", \"000000\", x=HI_SCORE.rect.right, to_center_x=False, y=Text.TOP_LINE) \n",
    "        SCORE2 = Text(\"SCORE2\", \"SCORE <2> \", color=\"yellow\", x=Main.SCREEN_WIDTH - 120  , y=Text.TOP_LINE)\n",
    "        SHIP2_SCORE = Text(\"SHIP2_SCORE\", \"000000\", color=\"yellow\", x=SCORE2.rect.right, to_center_x=False  , y=Text.TOP_LINE)\n",
    "        #X1 = Text(\"X1\", \"x \", x=40, y=Text.BOTTOM_LINE)\n",
    "        LIVES1 = Text(\"LIVES1\", \"%02d\" % Ship.NEW_GAME_LIVES , x=45 , y=Text.BOTTOM_LINE)\n",
    "        \n",
    "    @staticmethod\n",
    "    def make_game_over_text():\n",
    "        Text.SHOW_DICT = {}\n",
    "        \n",
    "        GAME_OVER = Text(\"GAME_OVER\", \"GAME OVER\"  , x=Main.SCREEN_WIDTH // 2 , y=Main.SCREEN_HEIGHT // 3, font=Main.AmaticSC70)\n",
    "        YOU_SCORE = Text(\"YOU_SCORE\", \"YOU SCORE IS %d\" % Main.ship1.score, x=Main.SCREEN_WIDTH // 2, y=GAME_OVER.rect.bottom + 50 )\n",
    "    \"\"\"     \n",
    "        \n",
    "      \n",
    "    \n",
    "        \n",
    "    def _blit(self):\n",
    "        Text.text_surfase.blit(self.surf, (self.rect.x, self.rect.y))\n",
    "    \n",
    "    def init_font():\n",
    "        \n",
    "        None if pg.font.get_init() else pg.font.init()\n",
    "        AmaticSC32 = pg.font.Font(\"Fonts/AmaticSC-Bold.ttf\", self.size)\n",
    "    \n",
    "    \n",
    "    @staticmethod\n",
    "    def make_menu():\n",
    "        Text.MENU_DICT = {}   \n",
    "        \n",
    "        NEW_GAME = Text(\"NEW_GAME\", \"NEW GAME\"  , x=Main.SCREEN_WIDTH // 2 , y=Main.SCREEN_HEIGHT // 3, font=Text.AmaticSC70)\n",
    "        QUIT = Text(\"QUIT\", \"QUIT\"  , x=Main.SCREEN_WIDTH // 2 , y=Main.SCREEN_HEIGHT // 2, font=Text.AmaticSC70)\n",
    "        \"\"\""
   ]
  },
  {
   "cell_type": "code",
   "execution_count": 298,
   "id": "occupied-boating",
   "metadata": {},
   "outputs": [],
   "source": [
    "class Ship(pg.sprite.Sprite):\n",
    "    \n",
    "    SHIP1_IMG = pg.image.load('Sprites/player1.png')#.convert_alpha()\n",
    "    \n",
    "    IMG_BULLET_DICT = {\"player1\":'Sprites/bullets/player_bullet_blue.png',}\n",
    "    \n",
    "    VELOCITY = Main.SCREEN_WIDTH // 200 #меньше значение - больше скорость\n",
    "    \n",
    "    SPRITES = pg.sprite.Group()\n",
    "    HIT_BOX = 1\n",
    "    NEW_GAME_LIVES = 3\n",
    "    \n",
    "    def __init__(self, type_ = \"player1\"):\n",
    "        pg.sprite.Sprite.__init__(self)\n",
    "        self.type_ = type_ # \"player1\" or \"player2\"\n",
    "        self.image = Ship.SHIP1_IMG\n",
    "        self.rect = self.image.get_rect(center=(Main.SCREEN_WIDTH // 2, Main.SCREEN_HEIGHT - 80))\n",
    "        self.motion_vector = 0\n",
    "        self.ready_to_fire = True\n",
    "        self.score = 0\n",
    "        self.lives = Ship.NEW_GAME_LIVES\n",
    "        self.add(Ship.SPRITES)\n",
    "        \n",
    "    @staticmethod\n",
    "    def update(surface):\n",
    "        for ship in Ship.SPRITES:\n",
    "            ship._move()\n",
    "        Ship.SPRITES.draw(surface)\n",
    "    \n",
    "    \n",
    "    @property\n",
    "    def get_type(self):\n",
    "        return self.type_\n",
    "    \n",
    "    def update_score(self, enemy_type):\n",
    "        self.score += 50\n",
    "        Text.update(Text.SHOW_DICT[\"SHIP1_SCORE\"], \"%06d\" % self.score) #плохо, что тут конкретный корабль\n",
    "        #Text.SHOW_DICT[\"SHIP1_SCORE\"].text = str(self.score)  \n",
    "    \n",
    "\n",
    "    \n",
    "    def _move(self):\n",
    "        new_x = self.rect.x + Ship.VELOCITY * self.motion_vector\n",
    "        if 0 < new_x < Main.SCREEN_WIDTH - self.rect[2]:\n",
    "            self.rect.x = new_x\n",
    "    \n",
    "    def shot(self):\n",
    "        if self.ready_to_fire:\n",
    "            self.ready_to_fire = False\n",
    "            self.bullet = Bullet(self, self.rect.center[0]) #говорит пуле, что её создал корабль\n",
    "    \n",
    "    def death(self):\n",
    "        self.lives -= 1\n",
    "        Text.update(Text.SHOW_DICT[\"LIVES1\"], \"%02d\" % self.get_lives)\n",
    "        if self.lives <= 0:\n",
    "            Main.GAME_STATUS = \"game_over\" #Тест!\n",
    "    \n",
    "    @property\n",
    "    def get_lives(self):\n",
    "        return self.lives\n",
    "    \"\"\"        \n",
    "    def draw(self, surfase):\n",
    "        self._move()\n",
    "        \n",
    "        #if self.bullet != None:\n",
    "        #    self.bullet.update(surfase)\n",
    "        #pg.draw.rect(surfase, (125, 125, 125), self.rect)\n",
    "        surfase.blit(self.image, self.rect)\n",
    "    \"\"\"    "
   ]
  },
  {
   "cell_type": "code",
   "execution_count": 320,
   "id": "partial-commission",
   "metadata": {},
   "outputs": [],
   "source": [
    "class Bullet(pg.sprite.Sprite):\n",
    "    \n",
    "    IMG_DICT = {\"player1\":'Sprites/bullets/player_bullet_blue.png',\n",
    "                \"gray1\": 'Sprites/bullets/virus1_bullet_gray.png',}\n",
    "    \n",
    "    \n",
    "    bullet_img = pg.image.load('Sprites/bullets/player_bullet_blue.png') \n",
    "    ENEMY_IMG = pg.image.load('Sprites/bullets/virus1_bullet_gray.png')\n",
    "    \n",
    "    SHIP_BULLET_VELOCITY = Main.SCREEN_HEIGHT // 55 #уменьшить число, чтобы повысить скорость\n",
    "    ENEMY_BULLET_VELOCITY = Main.SCREEN_HEIGHT // 70\n",
    "    \n",
    "    SHIP_BULLET_SPRITES = pg.sprite.Group()\n",
    "    ENEMY_BULLET_SPRITES = pg.sprite.Group()\n",
    "    HIT_BOX = 0.8 # 1=спрайту, 0,5=половина спрайта\n",
    "    \n",
    "    def __init__(self, parent, x):\n",
    "        pg.sprite.Sprite.__init__(self)\n",
    "        \n",
    "        self.parent = parent #определять класс чтобы узнать кто стреляет вирус или корабль\n",
    "        self.parent_type = self.parent.__class__.__name__\n",
    "        \n",
    "        self.type_ = self.parent.get_type #нормальный путь. спрашивать тип стрелка напрямую. \n",
    "        self.image = Bullet._get_img(self.type_)\n",
    "        \n",
    "        if  self.parent_type == \"Ship\": #спрашивает у родителя какой его класс\n",
    "            self.derection = -1 # -1=вверх = стреляет корабль по врагам, 1=вниз=враги по кораблю\n",
    "            self.velocity = Bullet.SHIP_BULLET_VELOCITY\n",
    "            \n",
    "             #Bullet.bullet_img.convert_alpha()\n",
    "            \n",
    "            self.rect = self.image.get_rect(center=(x, self.parent.rect.top)) #пуля летит от верха, \n",
    "            self.add(Bullet.SHIP_BULLET_SPRITES)\n",
    "        \n",
    "        elif self.parent_type == \"Enemy\":\n",
    "            self.derection = 1 \n",
    "            self.velocity = Bullet.ENEMY_BULLET_VELOCITY\n",
    "            #self.image = Bullet.ENEMY_IMG.convert_alpha()\n",
    "            self.rect = self.image.get_rect(center=(x, self.parent.rect.bottom)) #поменять на низ\n",
    "            self.add(Bullet.ENEMY_BULLET_SPRITES)\n",
    "        \n",
    "    @staticmethod\n",
    "    def _get_img(type_):\n",
    "        path = Enemy.IMG_BULLET_DICT.get(type_) or Ship.IMG_BULLET_DICT.get(type_) \n",
    "        bullet_img = pg.image.load(path).convert_alpha()\n",
    "        return bullet_img\n",
    "    \n",
    "    @staticmethod\n",
    "    def update (surfase):\n",
    "        for bullet in (Bullet.SHIP_BULLET_SPRITES.sprites() + \n",
    "                       Bullet.ENEMY_BULLET_SPRITES.sprites()):\n",
    "            bullet._move()\n",
    "            bullet._check_collision()\n",
    "        \n",
    "        \"\"\"\n",
    "        for bullet in Bullet.SHIP_BULLET_SPRITES.sprites():\n",
    "            bullet._move()\n",
    "        for bullet in Bullet.ENEMY_BULLET_SPRITES.sprites():\n",
    "            bullet._move()    \n",
    "        \"\"\"        \n",
    "        Bullet.SHIP_BULLET_SPRITES.draw(surfase)\n",
    "        Bullet.ENEMY_BULLET_SPRITES.draw(surfase)\n",
    "            \n",
    "\n",
    "        \n",
    "        \n",
    "    def _move(self):\n",
    "        self.rect.y += self.velocity * self.derection\n",
    "        if not 0 < self.rect.y < Main.SCREEN_HEIGHT :\n",
    "            self.parent.ready_to_fire = True\n",
    "            self.kill()\n",
    "                \n",
    "        \n",
    "    def _check_collision(self):\n",
    "        #коллизия пули с вирусом\n",
    "        if self.parent_type == \"Ship\":\n",
    "            collision_list = pg.sprite.spritecollide(self, Enemy.SPRITES, False,\n",
    "                                                     collided = pg.sprite.collide_circle_ratio(Enemy.HIT_BOX)) \n",
    "            #возвращает список коллизий. \n",
    "            #collide_circle_ratio(0.5) уменьшает коллизию спрайта до круга, в 2 раза меньше исходного прямоугольникаквадрата \n",
    "            if collision_list:\n",
    "                self.kill()\n",
    "                self.parent.ready_to_fire = True\n",
    "                self.parent.update_score(collision_list[0].enemy_type)\n",
    "                collision_list[0].death()\n",
    "        \n",
    "        elif self.parent_type == \"Enemy\":\n",
    "            #коллизия пули с пулей\n",
    "            collision_list = pg.sprite.spritecollide(self, Bullet.SHIP_BULLET_SPRITES, False,\n",
    "                                                    collided = pg.sprite.collide_circle_ratio(Bullet.HIT_BOX))\n",
    "            if collision_list:\n",
    "                self.parent.ready_to_fire = True\n",
    "                self.kill()\n",
    "                collision_list[0].parent.ready_to_fire = True\n",
    "                collision_list[0].kill()\n",
    "            \n",
    "            #коллизия пули с бутылкой\n",
    "            collision_list = pg.sprite.spritecollide(self, Ship.SPRITES, False,\n",
    "                                                    collided = pg.sprite.collide_circle_ratio(Ship.HIT_BOX))\n",
    "   \n",
    "            if collision_list:\n",
    "                self.kill()\n",
    "                self.parent.ready_to_fire = True\n",
    "                collision_list[0].death()\n",
    "                #print(collision_list)\n",
    "    \"\"\"\n",
    "    \n",
    "    \"\"\""
   ]
  },
  {
   "cell_type": "code",
   "execution_count": 332,
   "id": "conscious-clock",
   "metadata": {},
   "outputs": [],
   "source": [
    "class Enemy(pg.sprite.Sprite):\n",
    "    \"\"\"\n",
    "    enemy_yellow_img = pg.image.load('Sprites/enemy_yellow.png')\n",
    "    enemy_red_img = pg.image.load('Sprites/enemy_red.png')\n",
    "    enemy_gray_img = pg.image.load('Sprites/enemy_gray.png')\n",
    "    \n",
    "   \n",
    "    enemy_red_img = pg.transform.scale(enemy_red_img, (enemy_size, enemy_size))\n",
    "    enemy_gray_img = pg.transform.scale(enemy_gray_img, (enemy_size, enemy_size))\n",
    "    \"\"\"\n",
    "    \n",
    "    \n",
    "    enemy_size = Main.SCREEN_WIDTH // 15  #масштабирование врагов. увеличить число для уменьшения размера\n",
    "    \n",
    "    #последняя цифра и расширенее файла указываются процедурно\n",
    "    IMG_DICT = {\"red\": \"Sprites/Enemy/virus2_red_\",\n",
    "                \"gray\":\"Sprites/Enemy/virus1_gray_\",\n",
    "                \"yellow\":\"Sprites/Enemy/virus2_yellow_\",}\n",
    "    \n",
    "    IMG_BULLET_DICT = {\"red\":\"Sprites/Bullets/virus2_bullet_red.png\",\n",
    "                       \"gray\":\"Sprites/Bullets/virus1_bullet_gray.png\",\n",
    "                       \"yellow\":\"Sprites/Bullets/virus2_bullet_yellow.png\",}\n",
    "    \n",
    "    velocity =  Main.SCREEN_WIDTH // 400 #уменьшить значение, чтобы увеличить скорость\n",
    "    ROWS = 5 #число строк\n",
    "    COLUMNS = 11 #число столбцов\n",
    "    \n",
    "   \n",
    "    x = 10 #начальные координаты роя\n",
    "    y = 40\n",
    "    fall_velocjty = 13 \n",
    "\n",
    "    HIT_BOX = 0.4 # уменьшает размер хитбокса и делает его круглым \n",
    "    dx = enemy_size * 0.9 #расстоянние между столбцами \n",
    "    dy = enemy_size * 0.7 \n",
    "    \n",
    "    TIME_TO_DEATH = 6\n",
    "    \n",
    "    \n",
    "    derection = 1  #1 is rigth, -1 is left\n",
    "    swarm_width = dx * COLUMNS\n",
    "    swarm_heigth = dy * ROWS\n",
    "    \n",
    "    CHANSE_TO_FIRE = 1 # вероятность выстрела за тик (0=нет, 1000=100%)\n",
    "    \n",
    "    \n",
    "    def __init__ (self, type_=\"gray\"):\n",
    "        pg.sprite.Sprite.__init__(self)\n",
    "        self.enemy_type = type_ #gray, red, yellow\n",
    "        \n",
    "        self.image_sequence = Enemy._get_image_sequence(self.enemy_type) #секвенция с анимацией\n",
    "        self.image_index = 0\n",
    "        self.image = self.image_sequence[self.image_index]\n",
    "              \n",
    "        self.rect = self.image.get_rect(center=(0, 0))\n",
    "        self.row = 0\n",
    "        self.column = 0\n",
    "        self.allow_to_fire = False\n",
    "        self.ready_to_fire = True\n",
    "        self.alive = True\n",
    "        self.time_to_death = Enemy.TIME_TO_DEATH\n",
    "        \n",
    "        self.add(Enemy.SPRITES)\n",
    "    \n",
    "    \n",
    "    \n",
    "    \n",
    "    def _make_rect(self):\n",
    "        rect1 = self.image.get_rect(center=(0, 0)) #уменьшаем хитбокс center=(0, 0) get_size()\n",
    "        rect2 = rect1.inflate(-25,-25)\n",
    "        rect2.center = (100, 100)\n",
    "        #rect = rect.move(-25,-25)\n",
    "        return rect2\n",
    "    \n",
    "    @property\n",
    "    def get_type(self):\n",
    "        return self.enemy_type\n",
    "    \n",
    "    \n",
    "    def _update_image(self):\n",
    "        self.image_index += 1\n",
    "        if self.image_index == len(self.image_sequence):\n",
    "            self.image_index = 0\n",
    "            self.kill() #дохнет, если больше нет спрайтов\n",
    "        self.image = self.image_sequence[self.image_index]\n",
    "    \n",
    "    @staticmethod\n",
    "    def _get_image_sequence(enemy_type):\n",
    "        image_sequence = []\n",
    "        for frame_number in range(0,3):\n",
    "            path = Enemy.IMG_DICT.get(enemy_type) + \"%d.png\" % frame_number\n",
    "            enemy_img = pg.image.load(path).convert_alpha()\n",
    "            enemy_img = pg.transform.scale(enemy_img, (Enemy.enemy_size, Enemy.enemy_size))\n",
    "            image_sequence.append(enemy_img)\n",
    "        \n",
    "        path = \"Sprites/Enemy/bah.png\" #добавляет последний спрайт взрыва\n",
    "        enemy_img = pg.image.load(path).convert_alpha()\n",
    "        enemy_img = pg.transform.scale(enemy_img, (Enemy.enemy_size, Enemy.enemy_size))\n",
    "        image_sequence.append(enemy_img)\n",
    "        return image_sequence\n",
    "    \n",
    "    @staticmethod\n",
    "    def set_swarm(): #устанавливает рой на начальные координаты\n",
    "        Enemy.x = 0\n",
    "        Enemy.y = Main.SCREEN_WIDTH // 26\n",
    "        \n",
    "    @staticmethod\n",
    "    def move_swarm(surface):\n",
    "        Enemy.x += Enemy.velocity * Enemy.derection\n",
    "        for enemy in Enemy.SPRITES:\n",
    "            Enemy._update(enemy)\n",
    "        Enemy.SPRITES.draw(surface)\n",
    "        \n",
    "    def _update (self):\n",
    "        #pg.time.set_timer(self._update_image(), 1000)\n",
    "        self._death_timer() #анимация смерти\n",
    "        self._fire() # стрельба\n",
    "        self._move()\n",
    "    \n",
    "    def _death_timer (self):\n",
    "        if self.alive == False: \n",
    "            self.time_to_death -= 1\n",
    "            if self.time_to_death % 2 == 0:\n",
    "                self._update_image()\n",
    "    \n",
    "    \n",
    "    \n",
    "    \n",
    "    \"\"\"\n",
    "    def _death_animation (self):\n",
    "        if not\n",
    "        self.alive = True\n",
    "    \"\"\"    \n",
    "    def _move(self):\n",
    "        \"\"\" черные квадраты вместо аллов ту фаер\n",
    "        if self.allow_to_fire:\n",
    "            self.image = pg.Surface((50,50))\n",
    "        \"\"\"\n",
    "        self.rect.x = Enemy.x + Enemy.dx * self.column #движение влево-вправо\n",
    "        self.rect.y = Enemy.y + Enemy.dy * self.row\n",
    "        previous_direction = Enemy.derection\n",
    "        if self.rect.x < 0 :    # повороты от границ экрана\n",
    "            Enemy.derection = 1\n",
    "        elif self.rect.x + self.rect.width > Main.SCREEN_WIDTH:\n",
    "            Enemy.derection = -1\n",
    "        if  previous_direction != Enemy.derection:\n",
    "            Enemy.y += Enemy.fall_velocjty\n",
    "        #self._fire() # стрельба\n",
    "    \n",
    "    def _fire(self): \n",
    "        if (self.allow_to_fire * self.ready_to_fire): \n",
    "            if randint(0, 1000) < Enemy.CHANSE_TO_FIRE:\n",
    "                self.ready_to_fire = False\n",
    "                self.bullet = Bullet(self, self.rect.x + self.rect.width // 2)\n",
    "                \n",
    "                #print(\"BAH!\")   \n",
    "    \n",
    "    \"\"\"\n",
    "    def _fire(self):\n",
    "        if self.can_to_fire:\n",
    "            self.bullet = Bullet(self, self.rect.center[0])\n",
    "            Enemy.BULLETS добавить экземпляр в список\n",
    "    \"\"\"\n",
    "    def death(self):\n",
    "        count_of_enemies = len(Enemy.SPRITES) #ускоряем игру\n",
    "        Main.ACCELERATION_FACTOR = Main.get_acceleration_factor(count_of_enemies)\n",
    "        #print(UP)\n",
    "        if self.allow_to_fire: #отдаем возможность стрелять тому, кто выше\n",
    "            for enemy in reversed(Enemy.SPRITES.sprites()):  \n",
    "                if enemy.column == self.column:\n",
    "                    enemy.allow_to_fire = True\n",
    "                    break\n",
    "        self.alive = False #запускаем анимацию смерти\n",
    "        \n",
    "        #pg.event.post(BAH)\n",
    "        \n",
    "                \n",
    "                    \n",
    "        \n",
    "    \n",
    "    @staticmethod\n",
    "    def make_list(): #делаем врагов процедурно. они попадают в список Enemy.SPRITES\n",
    "        Enemy.SPRITES = pg.sprite.Group()\n",
    "        name = \"invaider\"\n",
    "        for r in range(Enemy.ROWS):\n",
    "            for c in range(Enemy.COLUMNS):\n",
    "                e = name + \"_%s_%s\" % (r, c)\n",
    "                if r < 1:    # тип врагов в строке\n",
    "                    type_ = \"'gray'\"\n",
    "                elif 1 <= r < 3 :\n",
    "                    type_ = \"'red'\"\n",
    "                else:\n",
    "                    type_ = \"'yellow'\"\n",
    "                \n",
    "                exec(\"%s = Enemy(%s)\" % (e, type_))\n",
    "                exec((\"%s.row = \" % e) + str(r))  # указываем каждому врагу его столбец и строку\n",
    "                exec((\"%s.column = \" % e) + str(c))\n",
    "                if r == (Enemy.ROWS - 1): #разрешает стрелять нижнему ряду\n",
    "                    exec(\"%s.allow_to_fire = True\" % e)"
   ]
  },
  {
   "cell_type": "code",
   "execution_count": 333,
   "id": "occupational-conducting",
   "metadata": {
    "scrolled": true
   },
   "outputs": [],
   "source": [
    "Main.go()"
   ]
  },
  {
   "cell_type": "raw",
   "id": "fossil-robin",
   "metadata": {},
   "source": [
    "про эвенты:\n",
    "\n",
    "https://www.rupython.com/pygame-42-37299.html\n",
    "https://coderoad.ru/24475718/PyGame-%D0%9F%D0%BE%D0%BB%D1%8C%D0%B7%D0%BE%D0%B2%D0%B0%D1%82%D0%B5%D0%BB%D1%8C%D1%81%D0%BA%D0%BE%D0%B5-%D0%A1%D0%BE%D0%B1%D1%8B%D1%82%D0%B8%D0%B5\n",
    "https://overcoder.net/q/3682782/%D0%B8%D1%81%D0%BF%D0%BE%D0%BB%D1%8C%D0%B7%D0%BE%D0%B2%D0%B0%D0%BD%D0%B8%D0%B5-pygametimesettimer\n",
    "https://www.pygame.org/docs/ref/event.html?"
   ]
  },
  {
   "cell_type": "code",
   "execution_count": 274,
   "id": "understood-liechtenstein",
   "metadata": {},
   "outputs": [
    {
     "data": {
      "text/plain": [
       "3"
      ]
     },
     "execution_count": 274,
     "metadata": {},
     "output_type": "execute_result"
    }
   ],
   "source": [
    "a = [4,5,6]\n",
    "len(a)"
   ]
  },
  {
   "cell_type": "code",
   "execution_count": 309,
   "id": "discrete-peter",
   "metadata": {},
   "outputs": [],
   "source": [
    "ddd = pygame.event.Event(pg.USEREVENT)"
   ]
  },
  {
   "cell_type": "code",
   "execution_count": 310,
   "id": "through-creativity",
   "metadata": {},
   "outputs": [
    {
     "ename": "AttributeError",
     "evalue": "'Event' object has no attribute 'post'",
     "output_type": "error",
     "traceback": [
      "\u001b[1;31m---------------------------------------------------------------------------\u001b[0m",
      "\u001b[1;31mAttributeError\u001b[0m                            Traceback (most recent call last)",
      "\u001b[1;32m<ipython-input-310-9a86db23ac9f>\u001b[0m in \u001b[0;36m<module>\u001b[1;34m\u001b[0m\n\u001b[1;32m----> 1\u001b[1;33m \u001b[0mddd\u001b[0m\u001b[1;33m.\u001b[0m\u001b[0mpost\u001b[0m\u001b[1;33m\u001b[0m\u001b[1;33m\u001b[0m\u001b[0m\n\u001b[0m",
      "\u001b[1;31mAttributeError\u001b[0m: 'Event' object has no attribute 'post'"
     ]
    }
   ],
   "source": [
    "ddd.post"
   ]
  },
  {
   "cell_type": "code",
   "execution_count": 910,
   "id": "formal-bibliography",
   "metadata": {},
   "outputs": [
    {
     "ename": "SyntaxError",
     "evalue": "invalid syntax (<ipython-input-910-e66dd15deaec>, line 1)",
     "output_type": "error",
     "traceback": [
      "\u001b[1;36m  File \u001b[1;32m\"<ipython-input-910-e66dd15deaec>\"\u001b[1;36m, line \u001b[1;32m1\u001b[0m\n\u001b[1;33m    asd.surf.get_rect(center=(100, 100))(2:4)\u001b[0m\n\u001b[1;37m                                          ^\u001b[0m\n\u001b[1;31mSyntaxError\u001b[0m\u001b[1;31m:\u001b[0m invalid syntax\n"
     ]
    }
   ],
   "source": [
    "asd.surf.get_rect(center=(100, 100))[2:4]"
   ]
  },
  {
   "cell_type": "code",
   "execution_count": 769,
   "id": "fatty-protest",
   "metadata": {},
   "outputs": [
    {
     "data": {
      "text/plain": [
       "<function Surface.get_rect>"
      ]
     },
     "execution_count": 769,
     "metadata": {},
     "output_type": "execute_result"
    }
   ],
   "source": [
    "Text.SHIP1_IMG.get_rect"
   ]
  },
  {
   "cell_type": "code",
   "execution_count": 971,
   "id": "dietary-belfast",
   "metadata": {},
   "outputs": [],
   "source": [
    "pg.font.init()\n",
    "AmaticSC32 = pg.font.Font(\"Fonts/AmaticSC-Bold.ttf\", 32)\n",
    "suwrf = AmaticSC32.render('SCORE <1> ', True, (30,39,53))"
   ]
  },
  {
   "cell_type": "code",
   "execution_count": 423,
   "id": "declared-poster",
   "metadata": {},
   "outputs": [],
   "source": [
    "AmaticSC32 = pg.freetype.Font(\"Fonts/AmaticSC-Bold.ttf\", 32)"
   ]
  },
  {
   "cell_type": "code",
   "execution_count": 969,
   "id": "brown-hebrew",
   "metadata": {},
   "outputs": [],
   "source": [
    "sufr = AmaticSC32.render(\"sdfds\", (234,53,34))"
   ]
  },
  {
   "cell_type": "code",
   "execution_count": 972,
   "id": "growing-calgary",
   "metadata": {},
   "outputs": [
    {
     "data": {
      "text/plain": [
       "<rect(0, 0, 95, 41)>"
      ]
     },
     "execution_count": 972,
     "metadata": {},
     "output_type": "execute_result"
    }
   ],
   "source": [
    "suwrf.get_rect()"
   ]
  },
  {
   "cell_type": "code",
   "execution_count": null,
   "id": "twelve-corporation",
   "metadata": {},
   "outputs": [],
   "source": [
    "suwrf.get_rect()"
   ]
  },
  {
   "cell_type": "code",
   "execution_count": 621,
   "id": "pressing-dragon",
   "metadata": {},
   "outputs": [
    {
     "data": {
      "text/plain": [
       "{'SHIP1_SCORE': <__main__.Text at 0xd1d949d0>,\n",
       " 'LIVES1': <__main__.Text at 0xd1d942e0>}"
      ]
     },
     "execution_count": 621,
     "metadata": {},
     "output_type": "execute_result"
    }
   ],
   "source": [
    "Text.SHOW_DICT"
   ]
  },
  {
   "cell_type": "code",
   "execution_count": 595,
   "id": "arranged-lexington",
   "metadata": {},
   "outputs": [],
   "source": [
    "a = {\"sdf\":35,\"sgd\":65}\n",
    "c = a.values() "
   ]
  },
  {
   "cell_type": "code",
   "execution_count": 868,
   "id": "tutorial-saturn",
   "metadata": {},
   "outputs": [
    {
     "data": {
      "text/plain": [
       "Font('Fonts/AmaticSC-Bold.ttf')"
      ]
     },
     "execution_count": 868,
     "metadata": {},
     "output_type": "execute_result"
    }
   ],
   "source": [
    "Text.SHOW_DICT[\"HI_SCORE\"].font"
   ]
  },
  {
   "cell_type": "code",
   "execution_count": 671,
   "id": "social-external",
   "metadata": {},
   "outputs": [
    {
     "data": {
      "text/plain": [
       "<Surface(45x73x32 SW)>"
      ]
     },
     "execution_count": 671,
     "metadata": {},
     "output_type": "execute_result"
    }
   ],
   "source": [
    "Ship.ship_img"
   ]
  },
  {
   "cell_type": "code",
   "execution_count": 567,
   "id": "western-length",
   "metadata": {},
   "outputs": [],
   "source": [
    "self.rect = self.image.get_rect(center=(Main.SCREEN_WIDTH // 2, Main.SCREEN_HEIGHT - 80))"
   ]
  },
  {
   "cell_type": "code",
   "execution_count": 674,
   "id": "weekly-appraisal",
   "metadata": {},
   "outputs": [
    {
     "data": {
      "text/plain": [
       "<rect(40, 30, 45, 73)>"
      ]
     },
     "execution_count": 674,
     "metadata": {},
     "output_type": "execute_result"
    }
   ],
   "source": [
    "surfase234.blit(Ship.ship_img, (40, 30))"
   ]
  },
  {
   "cell_type": "code",
   "execution_count": 673,
   "id": "royal-appraisal",
   "metadata": {},
   "outputs": [],
   "source": [
    "surfase234 = pg.Surface((456, 222))"
   ]
  },
  {
   "cell_type": "code",
   "execution_count": 898,
   "id": "decimal-mystery",
   "metadata": {},
   "outputs": [],
   "source": [
    "new_rect = surfase234.get_rect(center=(100,100))"
   ]
  },
  {
   "cell_type": "code",
   "execution_count": 899,
   "id": "large-madonna",
   "metadata": {},
   "outputs": [
    {
     "data": {
      "text/plain": [
       "<rect(-128, -11, 456, 222)>"
      ]
     },
     "execution_count": 899,
     "metadata": {},
     "output_type": "execute_result"
    }
   ],
   "source": [
    "new_rect"
   ]
  },
  {
   "cell_type": "code",
   "execution_count": 677,
   "id": "hundred-advocacy",
   "metadata": {},
   "outputs": [
    {
     "ename": "AttributeError",
     "evalue": "'pygame.Surface' object has no attribute 'rect'",
     "output_type": "error",
     "traceback": [
      "\u001b[1;31m---------------------------------------------------------------------------\u001b[0m",
      "\u001b[1;31mAttributeError\u001b[0m                            Traceback (most recent call last)",
      "\u001b[1;32m<ipython-input-677-08f053a71533>\u001b[0m in \u001b[0;36m<module>\u001b[1;34m\u001b[0m\n\u001b[1;32m----> 1\u001b[1;33m \u001b[0msurfase234\u001b[0m\u001b[1;33m.\u001b[0m\u001b[0mrect\u001b[0m\u001b[1;33m.\u001b[0m\u001b[0mx\u001b[0m\u001b[1;33m\u001b[0m\u001b[1;33m\u001b[0m\u001b[0m\n\u001b[0m",
      "\u001b[1;31mAttributeError\u001b[0m: 'pygame.Surface' object has no attribute 'rect'"
     ]
    }
   ],
   "source": [
    "surfase234.rect.x"
   ]
  },
  {
   "cell_type": "code",
   "execution_count": 722,
   "id": "defined-transformation",
   "metadata": {},
   "outputs": [],
   "source": [
    "ddd = Ship.ship_img.get_rect()"
   ]
  },
  {
   "cell_type": "code",
   "execution_count": 748,
   "id": "sharing-occupation",
   "metadata": {},
   "outputs": [
    {
     "data": {
      "text/plain": [
       "5"
      ]
     },
     "execution_count": 748,
     "metadata": {},
     "output_type": "execute_result"
    }
   ],
   "source": [
    "aaa = 5.0123456789\n",
    "round(aaa)"
   ]
  },
  {
   "cell_type": "code",
   "execution_count": 735,
   "id": "american-suite",
   "metadata": {},
   "outputs": [
    {
     "data": {
      "text/plain": [
       "73"
      ]
     },
     "execution_count": 735,
     "metadata": {},
     "output_type": "execute_result"
    }
   ],
   "source": [
    "Ship.ship_img.get_width()\n",
    "Ship.ship_img.get_height()"
   ]
  },
  {
   "cell_type": "code",
   "execution_count": null,
   "id": "coupled-sister",
   "metadata": {},
   "outputs": [],
   "source": []
  }
 ],
 "metadata": {
  "kernelspec": {
   "display_name": "Python 3",
   "language": "python",
   "name": "python3"
  },
  "language_info": {
   "codemirror_mode": {
    "name": "ipython",
    "version": 3
   },
   "file_extension": ".py",
   "mimetype": "text/x-python",
   "name": "python",
   "nbconvert_exporter": "python",
   "pygments_lexer": "ipython3",
   "version": "3.8.7"
  }
 },
 "nbformat": 4,
 "nbformat_minor": 5
}
