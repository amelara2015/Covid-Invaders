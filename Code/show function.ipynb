{
 "cells": [
  {
   "cell_type": "code",
   "execution_count": 4,
   "id": "active-crest",
   "metadata": {},
   "outputs": [
    {
     "name": "stdout",
     "output_type": "stream",
     "text": [
      "Requirement already satisfied: numpy in d:\\python38\\lib\\site-packages (1.20.1)Note: you may need to restart the kernel to use updated packages.\n",
      "\n"
     ]
    }
   ],
   "source": [
    "#pip install numpy "
   ]
  },
  {
   "cell_type": "code",
   "execution_count": 5,
   "id": "civic-savage",
   "metadata": {},
   "outputs": [],
   "source": [
    "import matplotlib.pyplot as plt\n",
    "import numpy as np"
   ]
  },
  {
   "cell_type": "code",
   "execution_count": 40,
   "id": "green-geology",
   "metadata": {},
   "outputs": [
    {
     "name": "stdout",
     "output_type": "stream",
     "text": [
      "Major X-ticks locations: [-10.   0.  10.  20.  30.  40.  50.  60.]\n",
      "Major X-ticks labels: [Text(0, 0, ''), Text(0, 0, ''), Text(0, 0, ''), Text(0, 0, ''), Text(0, 0, ''), Text(0, 0, ''), Text(0, 0, ''), Text(0, 0, '')]\n",
      "Major X-ticks tick lines: <a list of 16 Line2D ticklines objects>\n"
     ]
    },
    {
     "data": {
      "image/png": "[encoded data removed]",
      "text/plain": [
       "<Figure size 432x288 with 1 Axes>"
      ]
     },
     "metadata": {
      "needs_background": "light"
     },
     "output_type": "display_data"
    }
   ],
   "source": [
    "fig = plt.figure()\n",
    "\n",
    "ax = fig.add_subplot(111)\n",
    "\n",
    "x = np.arange(55)\n",
    "\n",
    "max_enemy = 55\n",
    "max_value = 10\n",
    "curvature = 5\n",
    "y = (max_value-1)*((max_enemy-x)/max_enemy)**curvature+1\n",
    "\n",
    "ax.plot(x, y, 'k')\n",
    "\n",
    "xax = ax.xaxis   # или xax = ax.get_xaxis()\n",
    "\n",
    "xlocs = xax.get_ticklocs()\n",
    "print ('Major X-ticks locations:', xlocs)\n",
    "xlabels = xax.get_ticklabels()\n",
    "print ('Major X-ticks labels:', xlabels)\n",
    "xlines = xax.get_ticklines()\n",
    "print ('Major X-ticks tick lines:', xlines)\n",
    "\n",
    "# Линии вспомогательной сетки (главные деления) только по оси абсцисс\n",
    "xax.grid(True)\n",
    "\n",
    "for label in xlabels:\n",
    "    # цвет подписи деленений оси OX\n",
    "    label.set_color('blue')\n",
    "    # поворот подписей деленений оси OX \n",
    "    label.set_rotation(45)\n",
    "    # размер шрифта подписей делений оси OX \n",
    "    label.set_fontsize(14)\n",
    "\n",
    "#save('pic_8_1_1', fmt='png')\n",
    "#save('pic_8_1_1', fmt='pdf')\n",
    "    \n",
    "plt.show()"
   ]
  },
  {
   "cell_type": "code",
   "execution_count": null,
   "id": "lonely-worry",
   "metadata": {},
   "outputs": [],
   "source": [
    "max_enemy = 55\n",
    "max_value = 10\n",
    "curvature = 5\n",
    "x = count_of_living_enemies\n",
    "y = (max_value-1)*((max_enemy-x)/max_enemy)**curvature+1\n",
    "\n",
    "FPS = 60\n",
    "pg.time.Clock().tick(FPS*y)\n"
   ]
  }
 ],
 "metadata": {
  "kernelspec": {
   "display_name": "Python 3",
   "language": "python",
   "name": "python3"
  },
  "language_info": {
   "codemirror_mode": {
    "name": "ipython",
    "version": 3
   },
   "file_extension": ".py",
   "mimetype": "text/x-python",
   "name": "python",
   "nbconvert_exporter": "python",
   "pygments_lexer": "ipython3",
   "version": "3.8.7"
  }
 },
 "nbformat": 4,
 "nbformat_minor": 5
}
