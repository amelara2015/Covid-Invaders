{
 "cells": [
  {
   "cell_type": "code",
   "execution_count": 7,
   "id": "greenhouse-glasgow",
   "metadata": {},
   "outputs": [
    {
     "ename": "SystemExit",
     "evalue": "0",
     "output_type": "error",
     "traceback": [
      "An exception has occurred, use %tb to see the full traceback.\n",
      "\u001b[1;31mSystemExit\u001b[0m\u001b[1;31m:\u001b[0m 0\n"
     ]
    }
   ],
   "source": [
    "import pygame\n",
    "import sys\n",
    "\n",
    "def load_image(name):\n",
    "    image = pygame.image.load(name)\n",
    "    return image\n",
    "\n",
    "class TestSprite(pygame.sprite.Sprite):\n",
    "    def __init__(self):\n",
    "        super(TestSprite, self).__init__()\n",
    "        self.images = []\n",
    "        self.images.append(load_image('D:/PyProjects/210214 Covid invaiders/Sprites/New/Virus/virus1_gray_0.png'))\n",
    "        self.images.append(load_image('D:/PyProjects/210214 Covid invaiders/Sprites/New/Virus/virus1_gray_1.png'))\n",
    "        self.images.append(load_image('D:/PyProjects/210214 Covid invaiders/Sprites/New/Virus/virus1_gray_2.png'))\n",
    "        # assuming both images are 64x64 pixels\n",
    "\n",
    "        self.index = 0\n",
    "        self.image = self.images[self.index]\n",
    "        self.rect = pygame.Rect(5, 5, 64, 64)\n",
    "\n",
    "    def update(self):\n",
    "        '''This method iterates through the elements inside self.images and \n",
    "        displays the next one each tick. For a slower animation, you may want to \n",
    "        consider using a timer of some sort so it updates slower.'''\n",
    "        self.index += 1\n",
    "        if self.index >= len(self.images):\n",
    "            self.index = 0\n",
    "        self.image = self.images[self.index]\n",
    "\n",
    "def main():\n",
    "    pygame.init()\n",
    "    screen = pygame.display.set_mode((250, 250))\n",
    "    \n",
    "    my_sprite = TestSprite()\n",
    "    my_group = pygame.sprite.Group(my_sprite)\n",
    "\n",
    "    while True:\n",
    "        screen.fill((255,255,255))\n",
    "        event = pygame.event.poll()\n",
    "        if event.type == pygame.QUIT:\n",
    "            pygame.quit()\n",
    "            sys.exit(0)\n",
    "\n",
    "        # Calling the 'my_group.update' function calls the 'update' function of all \n",
    "        # its member sprites. Calling the 'my_group.draw' function uses the 'image'\n",
    "        # and 'rect' attributes of its member sprites to draw the sprite.\n",
    "        my_group.update()\n",
    "        my_group.draw(screen)\n",
    "        pygame.display.update()\n",
    "        pygame.time.Clock().tick(1)\n",
    "        \n",
    "        \n",
    "if __name__ == '__main__':\n",
    "    main()"
   ]
  },
  {
   "cell_type": "code",
   "execution_count": null,
   "id": "photographic-contact",
   "metadata": {},
   "outputs": [],
   "source": []
  },
  {
   "cell_type": "code",
   "execution_count": null,
   "id": "south-highlight",
   "metadata": {},
   "outputs": [],
   "source": []
  }
 ],
 "metadata": {
  "kernelspec": {
   "display_name": "Python 3",
   "language": "python",
   "name": "python3"
  },
  "language_info": {
   "codemirror_mode": {
    "name": "ipython",
    "version": 3
   },
   "file_extension": ".py",
   "mimetype": "text/x-python",
   "name": "python",
   "nbconvert_exporter": "python",
   "pygments_lexer": "ipython3",
   "version": "3.8.7"
  }
 },
 "nbformat": 4,
 "nbformat_minor": 5
}
